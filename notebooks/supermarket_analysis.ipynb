{
 "cells": [
  {
   "cell_type": "markdown",
   "id": "ce256ec8",
   "metadata": {},
   "source": [
    "# Supermarket Sales Analysis\n",
    "\n",
    "This notebook provides a full exploratory data analysis of supermarket sales data, including trends, customer behavior, and product performance."
   ]
  },
  {
   "cell_type": "code",
   "execution_count": null,
   "id": "591de485",
   "metadata": {},
   "outputs": [],
   "source": [
    "import pandas as pd\n",
    "import matplotlib.pyplot as plt\n",
    "import seaborn as sns\n",
    "\n",
    "# Setup\n",
    "sns.set(style='whitegrid')\n",
    "plt.rcParams['figure.figsize'] = (12, 6)\n"
   ]
  },
  {
   "cell_type": "code",
   "execution_count": null,
   "id": "ab612950",
   "metadata": {},
   "outputs": [],
   "source": [
    "# Load cleaned data\n",
    "df = pd.read_csv('../data/supermarket_sales_cleaned.csv')\n",
    "df['Date'] = pd.to_datetime(df['Date'])\n",
    "df.head()"
   ]
  },
  {
   "cell_type": "markdown",
   "id": "3b764afc",
   "metadata": {},
   "source": [
    "## Key Metrics"
   ]
  },
  {
   "cell_type": "code",
   "execution_count": null,
   "id": "2a8d3871",
   "metadata": {},
   "outputs": [],
   "source": [
    "total_sales = df['Sales'].sum()\n",
    "total_orders = df.shape[0]\n",
    "avg_order_value = df['Sales'].mean()\n",
    "gross_income = df['gross_income'].sum()\n",
    "\n",
    "print(f\"Total Sales: ${total_sales:,.2f}\")\n",
    "print(f\"Total Orders: {total_orders}\")\n",
    "print(f\"Average Order Value: ${avg_order_value:.2f}\")\n",
    "print(f\"Gross Income: ${gross_income:,.2f}\")"
   ]
  },
  {
   "cell_type": "markdown",
   "id": "f7f65214",
   "metadata": {},
   "source": [
    "## Monthly Sales"
   ]
  },
  {
   "cell_type": "code",
   "execution_count": null,
   "id": "e752e769",
   "metadata": {},
   "outputs": [],
   "source": [
    "monthly_sales = df.groupby('Month')['Sales'].sum().reindex([\n",
    "    'January', 'February', 'March'])\n",
    "monthly_sales.plot(kind='bar', color='skyblue', title='Sales by Month')\n",
    "plt.ylabel('Sales')\n",
    "plt.show()"
   ]
  },
  {
   "cell_type": "markdown",
   "id": "6b0828c9",
   "metadata": {},
   "source": [
    "## Sales by Category"
   ]
  },
  {
   "cell_type": "code",
   "execution_count": null,
   "id": "7d7df428",
   "metadata": {},
   "outputs": [],
   "source": [
    "category_sales = df.groupby('Category')['Sales'].sum().sort_values()\n",
    "category_sales.plot(kind='barh', color='salmon', title='Sales by Category')\n",
    "plt.xlabel('Sales')\n",
    "plt.show()"
   ]
  },
  {
   "cell_type": "markdown",
   "id": "113cc2e6",
   "metadata": {},
   "source": [
    "## Customer Type Analysis"
   ]
  },
  {
   "cell_type": "code",
   "execution_count": null,
   "id": "dd4f4dcb",
   "metadata": {},
   "outputs": [],
   "source": [
    "sns.boxplot(x='Customer type', y='Sales', data=df)\n",
    "plt.title('Sales Distribution by Customer Type')\n",
    "plt.show()"
   ]
  },
  {
   "cell_type": "markdown",
   "id": "f972de63",
   "metadata": {},
   "source": [
    "## Payment Methods"
   ]
  },
  {
   "cell_type": "code",
   "execution_count": null,
   "id": "b731c046",
   "metadata": {},
   "outputs": [],
   "source": [
    "df['Payment'].value_counts().plot(kind='pie', autopct='%1.1f%%', startangle=140)\n",
    "plt.title('Payment Method Distribution')\n",
    "plt.ylabel('')\n",
    "plt.show()"
   ]
  }
 ],
 "metadata": {},
 "nbformat": 4,
 "nbformat_minor": 5
}
